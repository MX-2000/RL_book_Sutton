{
 "cells": [
  {
   "cell_type": "markdown",
   "metadata": {},
   "source": [
    "<p style=\"font-size:25px;\">\n",
    "<b>Exercise 4.1</b> \n",
    "</p>\n",
    "\n",
    "In Example 4.1, if $\\pi$ is the equiprobable random policy, what is $q_{\\pi}(11, down)$? What is $q_{\\pi}(7, down)$? \n",
    "\n",
    "<p style=\"font-size:22px;\">\n",
    "<b>Answer:</b> \n",
    "</p>"
   ]
  },
  {
   "cell_type": "markdown",
   "metadata": {},
   "source": [
    "$$\n",
    "Q_{\\pi}(11,down) = 1*[-1 + 1*0] = -1 \\\\\n",
    "\n",
    "Q_{\\pi}(7,down) = 1*[-1 + \\sum_{a}\\pi_{a,11}Q_{\\pi}(a,11)] = -1 + V_{\\pi}(11) = -15 \\\\\n",
    "\n",
    "$$"
   ]
  }
 ],
 "metadata": {
  "language_info": {
   "name": "python"
  }
 },
 "nbformat": 4,
 "nbformat_minor": 2
}
