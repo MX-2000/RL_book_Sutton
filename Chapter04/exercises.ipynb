{
 "cells": [
  {
   "cell_type": "markdown",
   "metadata": {},
   "source": [
    "<p style=\"font-size:25px;\">\n",
    "<b>Exercise 4.1</b> \n",
    "</p>\n",
    "\n",
    "In Example 4.1, if $\\pi$ is the equiprobable random policy, what is $q_{\\pi}(11, down)$? What is $q_{\\pi}(7, down)$? \n",
    "\n",
    "<p style=\"font-size:22px;\">\n",
    "<b>Answer:</b> \n",
    "</p>"
   ]
  },
  {
   "cell_type": "markdown",
   "metadata": {},
   "source": [
    "$$\n",
    "Q_{\\pi}(11,down) = 1*[-1 + 1*0] = -1 \\\\\n",
    "\n",
    "Q_{\\pi}(7,down) = 1*[-1 + \\sum_{a}\\pi_{a,11}Q_{\\pi}(a,11)] = -1 + V_{\\pi}(11) = -15 \\\\\n",
    "\n",
    "$$"
   ]
  },
  {
   "cell_type": "markdown",
   "metadata": {},
   "source": [
    "<p style=\"font-size:25px;\">\n",
    "<b>Exercise 4.2</b> \n",
    "</p>\n",
    "\n",
    "In Example 4.1, suppose a new state 15 is added to the gridworld just below\n",
    "state 13, and its actions, left, up, right, and down, take the agent to states 12, 13, 14, and 15, respectively. Assume that the transitions from the original states are unchanged. What, then, is $v_{\\pi}(15) for the equiprobable random policy? Now suppose the dynamics of state 13 are also changed, such that action down from state 13 takes the agent to the new\n",
    "state 15. What is $v_{\\pi}(15)$ for the equiprobable random policy in this case?\n",
    "\n",
    "<p style=\"font-size:22px;\">\n",
    "<b>Answer:</b> \n",
    "</p>\n",
    "\n"
   ]
  },
  {
   "cell_type": "markdown",
   "metadata": {},
   "source": [
    "$$\n",
    "v_{\\pi}(15) = -1 + \\frac{1}{4}[v_{\\pi}(12) + v_{\\pi}(13) + v_{\\pi}(14) + v_{\\pi}(15)] \\\\\n",
    "v_{\\pi}(15) = -\\frac{4}{3} + \\frac{1}{3}[v_{\\pi}(12) + v_{\\pi}(13) + v_{\\pi}(14)] = \\frac{-4}{3} + \\frac{1}{3}[-22-20-14] = -20\n",
    "$$\n",
    "\n",
    "In the secon case: \n",
    "\n",
    "$$\n",
    "v_{\\pi}(13) = -1 + \\frac{1}{4}[v_{\\pi}(12) + v_{\\pi}(14) + v_{\\pi}(9) + v_{\\pi}(15)] \\\\\n",
    "v_{\\pi}(13) = -15 + \\frac{v_{\\pi}(15)}{4} \\\\\n",
    "v_{\\pi}(15) = -1 + \\frac{1}{4}[v_{\\pi}(12) + v_{\\pi}(13) + v_{\\pi}(14) + v_{\\pi}(15)] \\\\\n",
    "v_{\\pi}(15) = \\frac{-40+v_{\\pi}(13)}{3}\n",
    "$$\n",
    "\n",
    "If we plug $v_{\\pi}(13)$ into $v_{\\pi}(15)$ :\n",
    "\n",
    "$$\n",
    "v_{\\pi}(15) = \\frac{-40-15+\\frac{v_{\\pi}(13)}{4}}{3} = -20\n",
    "$$"
   ]
  },
  {
   "cell_type": "markdown",
   "metadata": {},
   "source": [
    "<p style=\"font-size:25px;\">\n",
    "<b>Exercise 4.3</b> \n",
    "</p>\n",
    "\n",
    "What are the equations analogous to (4.3), (4.4), and (4.5) for the action-value function $q_{\\pi}$ and its successive approximation by a sequence of functions $q_0, q_1, q_2,$...?\n",
    "\n",
    "<p style=\"font-size:22px;\">\n",
    "<b>Answer:</b> \n",
    "</p>"
   ]
  },
  {
   "cell_type": "markdown",
   "metadata": {},
   "source": [
    "$q_{k+1} = \\sum_{s',r}p(s',r|a,s)[r + \\gamma \\sum_{a'}\\pi_(a'|s')q_k(a',s')]$"
   ]
  },
  {
   "cell_type": "markdown",
   "metadata": {},
   "source": [
    "<p style=\"font-size:25px;\">\n",
    "<b>Exercise 4.4</b> \n",
    "</p>\n",
    "\n",
    "The policy iteration algorithm on page 80 has a subtle bug in that it may never terminate if the policy continually switches between two or more policies that are equally good. This is ok for pedagogy, but not for actual use. Modify the pseudocode so that convergence is guaranteed.\n",
    "\n",
    "<p style=\"font-size:22px;\">\n",
    "<b>Answer:</b> \n",
    "</p>\n",
    "\n",
    "The part of the code that may lead the policy to continually switch is: \n",
    "\n",
    "If olf-action $\\neq \\pi(s)$, then policy-stable $\\leftarrow$ false\n",
    "\n",
    "We can either keep the previous policy in memory for each action and make sure we don't switch back, if we do then we stop. \n",
    "\n",
    "We could break ties in a deterministic manner when choosing argmax, for example, always taking the first index. \n",
    "\n"
   ]
  },
  {
   "cell_type": "markdown",
   "metadata": {},
   "source": [
    "<p style=\"font-size:25px;\">\n",
    "<b>Exercise 4.5</b> \n",
    "</p>\n",
    "\n",
    "How would policy iteration be defined for action values? Give a complete algorithm for computing $q_*$, analogous to that on page 80 for computing $v_*$. Please pay special attention to this exercise, because the ideas involved will be used throughout the rest of the book.\n",
    "\n",
    "<p style=\"font-size:22px;\">\n",
    "<b>Answer:</b> \n",
    "</p>"
   ]
  },
  {
   "cell_type": "markdown",
   "metadata": {},
   "source": [
    "### Policy Iteration (using iterative policy evaluation)\n",
    "\n",
    "$$\n",
    "\\begin{array}{l}\n",
    "    \\text{1. Initialization:} \\\\\n",
    "    \\quad Q(s,a) \\in \\R \\text{ and } \\pi(s) \\in \\mathbb{A}(s) \\text{ arbitrarily for all } s \\in \\mathbb{S} \\text{ and all } a \\in \\mathbb{A}(s) \\\\ \\\\\n",
    "    \n",
    "    \\text{2. Policy Evaluation} \\\\\n",
    "    \\text{Loop:} \\\\\n",
    "        \\quad \\Delta \\leftarrow 0 \\\\\n",
    "        \\quad \\text{Loop for each } s \\in \\mathbb{S}:\\\\\n",
    "            \\quad \\quad \\text{Loop for each } a \\in \\mathbb{A}(s):\\\\\n",
    "                \\quad \\quad \\quad Q(s,a) \\leftarrow \\sum_{s',r}p(s',r|s,a)[r + \\gamma q(s',\\pi(s'))] \\\\\n",
    "            \\quad \\quad q \\leftarrow max_a(Q(s,a)) \\\\\n",
    "            \\quad \\quad \\Delta \\leftarrow max(\\Delta, |q - Q(s,\\pi(s))|) \\\\\n",
    "\n",
    "    \\text{until } \\Delta < \\theta \\text{ (a small positive number determining the accuracy of estimation)} \\\\ \\\\\n",
    "\n",
    "    \\text{3. Policy Improvment} \\\\\n",
    "        \\quad policy\\text{-}stable \\leftarrow true \\\\\n",
    "        \\quad \\text{For each } s \\in \\mathbb{S}: \\\\\n",
    "            \\quad \\quad old\\text{-}action \\leftarrow \\pi(s) \\\\\n",
    "            \\quad \\quad \\pi(s) \\leftarrow argmax_a Q(s,a) \\text{(taking the max deterministically)} \\\\\n",
    "            \\quad \\quad \\text{If } old\\text{-}action \\neq \\pi(s)\\text{, then } policy\\text{-}stable \\leftarrow false \\\\\n",
    "        \\text{If } policy\\text{-}stable \\text{, then stop and return } Q \\approx Q_* \\text{ and } \\pi \\approx \\pi_* \\text{; else go to 2}\n",
    "            \n",
    "\\end{array}\n",
    "$$"
   ]
  },
  {
   "cell_type": "markdown",
   "metadata": {},
   "source": [
    "$$\n",
    "\n",
    "\\begin{array}{l}\n",
    "    \\text{Initialization:} \\\\\n",
    "    V(s) \\in \\mathbb{R}, \\quad \\pi(s) \\in \\mathcal{A}(s) \\text{ arbitrarily for all } s \\in \\mathcal{S} \\\\\n",
    "    \\text{Policy Evaluation:} \\\\\n",
    "    \\Delta \\leftarrow 0 \\\\\n",
    "    \\text{Loop:} \\\\\n",
    "    \\quad v \\leftarrow V(s) \\\\\n",
    "    \\quad V(s) \\leftarrow \\sum_{s', r} p(s', r \\mid s, \\pi(s)) \\left[ r + \\gamma V(s') \\right]\n",
    "\\end{array}\n",
    "\n",
    "$$"
   ]
  }
 ],
 "metadata": {
  "language_info": {
   "name": "python"
  }
 },
 "nbformat": 4,
 "nbformat_minor": 2
}
