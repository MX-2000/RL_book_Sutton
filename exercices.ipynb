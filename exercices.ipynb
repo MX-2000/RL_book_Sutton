{
 "cells": [
  {
   "cell_type": "markdown",
   "metadata": {},
   "source": [
    "# Chapter 2\n",
    "# Multi-armed Bandits"
   ]
  },
  {
   "cell_type": "markdown",
   "metadata": {},
   "source": [
    "Exercise 2.1 In $\\epsilon$-greedy action selection, for the case of two actions and $\\epsilon$ = 0.5, what is\n",
    "the probability that the greedy action is selected?"
   ]
  },
  {
   "cell_type": "markdown",
   "metadata": {},
   "source": [
    "1-$\\epsilon$ = 50% of the time we will take the greedy action. \n",
    "50% of the time we will take a random action. There are two possible action, only one is greedy. So in the case of making a random choice, we have 50% chance of taking the greedy action. \n",
    "\n",
    "Let's say $P(A)$ = probability of taking the greedy action. $P(B)$ = probability of choosing randomly\n",
    "\n",
    "$P(A)   = P(A)*P(B) + P(A)*P(\\hat{B}) = 0.5*0.5 + 0.5*1 = 0.75$\n",
    "\n",
    "Therefore, there is 75% chance of taking the greedy action in this case"
   ]
  },
  {
   "cell_type": "markdown",
   "metadata": {},
   "source": []
  }
 ],
 "metadata": {
  "language_info": {
   "name": "python"
  }
 },
 "nbformat": 4,
 "nbformat_minor": 2
}
