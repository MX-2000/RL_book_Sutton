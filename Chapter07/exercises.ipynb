{
 "cells": [
  {
   "cell_type": "markdown",
   "metadata": {},
   "source": [
    "<p style=\"font-size:25px;\">\n",
    "<b>Exercise 7.1</b> \n",
    "</p>\n",
    "\n",
    "In Chapter 6 we noted that the Monte Carlo error can be written as the\n",
    "sum of TD errors (6.6) if the value estimates don’t change from step to step. Show that\n",
    "the n-step error used in (7.2) can also be written as a sum TD errors (again if the value\n",
    "estimates don’t change) generalizing the earlier result.\n",
    "\n",
    "<p style=\"font-size:22px;\">\n",
    "<b>Answer:</b> \n",
    "</p>"
   ]
  },
  {
   "cell_type": "markdown",
   "metadata": {},
   "source": [
    "$G_{t:t+n} - V(S_t) = R_{t+1} + \\gamma G_{t+1:t+n} - V(S_t)$\n",
    "\n",
    "By adding & removing the same term: \n",
    "\n",
    "$G_{t:t+n} - V(S_t) = R_{t+1} + \\gamma G_{t+1:t+n} - V(S_t) + \\gamma V_(S_{t+1}) - \\gamma  V_(S_{t+1})$\n",
    "\n",
    "$G_{t:t+n} - V(S_t) = \\delta_t + \\gamma [G_{t+1:t+n} - V_(S_{t+1})] = \\delta_t + \\gamma \\delta_{t+1} + \\gamma^2[G_{t+2:t+n} - V_(S_{t+2})]$\n",
    "\n",
    "$G_{t:t+n} - V(S_t) = \\sum_{k=t}^{t+n-1}\\gamma^{k-t}\\delta_k$"
   ]
  },
  {
   "cell_type": "markdown",
   "metadata": {},
   "source": [
    "<p style=\"font-size:25px;\">\n",
    "<b>Exercise 7.3</b> \n",
    "</p>\n",
    "\n",
    "Why do you think a larger random walk task (19 states instead of 5) was\n",
    "used in the examples of this chapter? Would a smaller walk have shifted the advantage\n",
    "to a different value of n? How about the change in left-side outcome from 0 to 1 made\n",
    "in the larger walk? Do you think that made any difference in the best value of n?\n",
    "\n",
    "<p style=\"font-size:22px;\">\n",
    "<b>Answer:</b> \n",
    "</p>"
   ]
  },
  {
   "cell_type": "markdown",
   "metadata": {},
   "source": [
    "Because of randomness, with 5 states only it is still highly probable that even with n<5 we get a full episode, meaning that the values of higher n get closer. \n",
    "\n",
    "With 19 states, we can see more of the expression of the n parameters. "
   ]
  },
  {
   "cell_type": "markdown",
   "metadata": {},
   "source": [
    "<p style=\"font-size:25px;\">\n",
    "<b>Exercise 7.4</b> \n",
    "</p>\n",
    "\n",
    "Prove that the n-step return of Sarsa (7.4) can be written exactly in terms\n",
    "of a novel TD error, as:\n",
    "\n",
    "$G_{t:t+n} = Q_{t-1}(S_t, A_t) + \\sum_{k=t}^{min(t+n,T)-1}\\gamma^{k-t}[R_{k+1} + \\gamma Q_k(S_{k+1},A_{k+1}) - Q_{k-1}(S_k,A_k)]$\n",
    "\n",
    "<p style=\"font-size:22px;\">\n",
    "<b>Answer:</b> \n",
    "</p>"
   ]
  }
 ],
 "metadata": {
  "language_info": {
   "name": "python"
  }
 },
 "nbformat": 4,
 "nbformat_minor": 2
}
