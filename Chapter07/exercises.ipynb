{
 "cells": [
  {
   "cell_type": "markdown",
   "metadata": {},
   "source": [
    "<p style=\"font-size:25px;\">\n",
    "<b>Exercise 7.1</b> \n",
    "</p>\n",
    "\n",
    "In Chapter 6 we noted that the Monte Carlo error can be written as the\n",
    "sum of TD errors (6.6) if the value estimates don’t change from step to step. Show that\n",
    "the n-step error used in (7.2) can also be written as a sum TD errors (again if the value\n",
    "estimates don’t change) generalizing the earlier result.\n",
    "\n",
    "<p style=\"font-size:22px;\">\n",
    "<b>Answer:</b> \n",
    "</p>"
   ]
  },
  {
   "cell_type": "markdown",
   "metadata": {},
   "source": [
    "$G_{t:t+n} - V(S_t) = R_{t+1} + \\gamma G_{t+1:t+n} - V(S_t)$\n",
    "\n",
    "By adding & removing the same term: \n",
    "\n",
    "$G_{t:t+n} - V(S_t) = R_{t+1} + \\gamma G_{t+1:t+n} - V(S_t) + \\gamma V_(S_{t+1}) - \\gamma  V_(S_{t+1})$\n",
    "\n",
    "$G_{t:t+n} - V(S_t) = \\delta_t + \\gamma [G_{t+1:t+n} - V_(S_{t+1})] = \\delta_t + \\gamma \\delta_{t+1} + \\gamma^2[G_{t+2:t+n} - V_(S_{t+2})]$\n",
    "\n",
    "$G_{t:t+n} - V(S_t) = \\sum_{k=t}^{t+n-1}\\gamma^{k-t}\\delta_k$"
   ]
  }
 ],
 "metadata": {
  "language_info": {
   "name": "python"
  }
 },
 "nbformat": 4,
 "nbformat_minor": 2
}
